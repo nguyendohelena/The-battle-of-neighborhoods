{
    "cells": [
        {
            "cell_type": "markdown",
            "metadata": {
                "collapsed": true
            },
            "source": "# Capstone Project - The battle of neighborhoods\n## Business problem section\n### Background and business problem\n\nPretend that you will travel to the US and you want to have a really good pizza while visiting there - just like the ones at home in Italy. The problem I aiming to solve is to analyse where we will find the best pizza in the US. However, let's say that you also would add some preferences with this pizza such as xx which will be covered in this analysis. \n### Data section\n\nThe data that will be used for the analysis will be gathered via Foursquare API in order to collect information about the locations in the US. As a tourist, the highest probability is that you will visit the biggest cities in the US, and therefore the data will be limit to the top 5 biggest. \n### Methodology\n\nThe main objective with the analysis is to identify the best pizza place, and therefore an API via Foursquare through the venues channel will be used to; firstly, get the highest pizza store density by using the near query to get the venus in the cities. Secondly, I will use the CategoryID to set it to show only pizza places since my search is limited to that specific target. This will furhter be run five times since the study will cover top 5 cities in the US. \n\nFurthermore, to get an indicator of the density of pizza places, I have calculated a center coordinate of the venues to get the mean longitude and latitude values. After, I will calculate the mean of the Euclidean distans from each venue to collect the mean coordinates. "
        },
        {
            "cell_type": "markdown",
            "metadata": {},
            "source": ""
        },
        {
            "cell_type": "code",
            "execution_count": null,
            "metadata": {},
            "outputs": [],
            "source": ""
        }
    ],
    "metadata": {
        "kernelspec": {
            "display_name": "Python 3.6",
            "language": "python",
            "name": "python3"
        },
        "language_info": {
            "codemirror_mode": {
                "name": "ipython",
                "version": 3
            },
            "file_extension": ".py",
            "mimetype": "text/x-python",
            "name": "python",
            "nbconvert_exporter": "python",
            "pygments_lexer": "ipython3",
            "version": "3.6.9"
        }
    },
    "nbformat": 4,
    "nbformat_minor": 1
}